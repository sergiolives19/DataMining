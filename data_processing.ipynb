{
  "nbformat": 4,
  "nbformat_minor": 0,
  "metadata": {
    "colab": {
      "provenance": [],
      "collapsed_sections": []
    },
    "kernelspec": {
      "name": "python3",
      "display_name": "Python 3"
    },
    "language_info": {
      "name": "python"
    }
  },
  "cells": [
    {
      "cell_type": "code",
      "execution_count": null,
      "metadata": {
        "id": "O2qsmzZfKrbh"
      },
      "outputs": [],
      "source": [
        "import pandas as pd\n",
        "import numpy as np\n",
        "from sklearn.preprocessing import MinMaxScaler\n",
        "from sklearn.linear_model import LinearRegression\n",
        "from sklearn.neighbors import KNeighborsRegressor\n",
        "from sklearn.model_selection import cross_val_score as cvs\n",
        "from sklearn.ensemble import RandomForestRegressor\n",
        "from sklearn.model_selection import RandomizedSearchCV\n",
        "import sklearn.model_selection as skl_ms\n",
        "from sklearn.metrics import mean_squared_error\n",
        "import matplotlib.pyplot as plt"
      ]
    },
    {
      "cell_type": "code",
      "source": [
        "from google.colab import drive\n",
        "drive.mount('/content/drive')"
      ],
      "metadata": {
        "colab": {
          "base_uri": "https://localhost:8080/"
        },
        "id": "fdZebM19K3m1",
        "outputId": "36d3b478-bae4-441a-810d-22844bc3d644"
      },
      "execution_count": null,
      "outputs": [
        {
          "output_type": "stream",
          "name": "stdout",
          "text": [
            "Drive already mounted at /content/drive; to attempt to forcibly remount, call drive.mount(\"/content/drive\", force_remount=True).\n"
          ]
        }
      ]
    },
    {
      "cell_type": "code",
      "source": [
        "DATA_PATH1 = '/content/drive/My Drive/Data Mining I/Project/Data/final_data1.csv'\n",
        "df1 = pd.read_csv(DATA_PATH1)"
      ],
      "metadata": {
        "id": "5Ei1-WtpK9jD"
      },
      "execution_count": null,
      "outputs": []
    },
    {
      "cell_type": "code",
      "source": [
        "DATA_PATH2 = '/content/drive/My Drive/Data Mining I/Project/Data/final_data2.csv'\n",
        "df2 = pd.read_csv(DATA_PATH2)"
      ],
      "metadata": {
        "id": "AsLraOsnLZUn"
      },
      "execution_count": null,
      "outputs": []
    },
    {
      "cell_type": "code",
      "source": [
        "rand_state = 42"
      ],
      "metadata": {
        "id": "J4FDpCNVZtQ7"
      },
      "execution_count": null,
      "outputs": []
    },
    {
      "cell_type": "markdown",
      "source": [
        "#Dataset 1"
      ],
      "metadata": {
        "id": "ec8vVxKdaHXB"
      }
    },
    {
      "cell_type": "code",
      "source": [
        "df1.head()"
      ],
      "metadata": {
        "colab": {
          "base_uri": "https://localhost:8080/",
          "height": 204
        },
        "id": "viVstN1aMbQn",
        "outputId": "05ad450c-31bf-476f-cb76-0a47e3a20240"
      },
      "execution_count": null,
      "outputs": [
        {
          "output_type": "execute_result",
          "data": {
            "text/plain": [
              "    country  air pollution  male alcohol consumption  \\\n",
              "0   Lesotho          24.49                      8.65   \n",
              "1    Guyana          23.14                      8.57   \n",
              "2  Eswatini          19.90                     14.78   \n",
              "3  Kiribati          11.07                      3.97   \n",
              "4  Suriname          26.48                     11.74   \n",
              "\n",
              "   female alcohol consumption  GDP/capita  both suicide rate  \n",
              "0                        1.67      1270.0              87.48  \n",
              "1                        2.10      9380.0              40.85  \n",
              "2                        3.26      3680.0              40.46  \n",
              "3                        0.80      2910.0              30.56  \n",
              "4                        3.10      4440.0              25.89  "
            ],
            "text/html": [
              "\n",
              "  <div id=\"df-3fc5e11f-7c84-403a-ab8b-20d30cd0407d\">\n",
              "    <div class=\"colab-df-container\">\n",
              "      <div>\n",
              "<style scoped>\n",
              "    .dataframe tbody tr th:only-of-type {\n",
              "        vertical-align: middle;\n",
              "    }\n",
              "\n",
              "    .dataframe tbody tr th {\n",
              "        vertical-align: top;\n",
              "    }\n",
              "\n",
              "    .dataframe thead th {\n",
              "        text-align: right;\n",
              "    }\n",
              "</style>\n",
              "<table border=\"1\" class=\"dataframe\">\n",
              "  <thead>\n",
              "    <tr style=\"text-align: right;\">\n",
              "      <th></th>\n",
              "      <th>country</th>\n",
              "      <th>air pollution</th>\n",
              "      <th>male alcohol consumption</th>\n",
              "      <th>female alcohol consumption</th>\n",
              "      <th>GDP/capita</th>\n",
              "      <th>both suicide rate</th>\n",
              "    </tr>\n",
              "  </thead>\n",
              "  <tbody>\n",
              "    <tr>\n",
              "      <th>0</th>\n",
              "      <td>Lesotho</td>\n",
              "      <td>24.49</td>\n",
              "      <td>8.65</td>\n",
              "      <td>1.67</td>\n",
              "      <td>1270.0</td>\n",
              "      <td>87.48</td>\n",
              "    </tr>\n",
              "    <tr>\n",
              "      <th>1</th>\n",
              "      <td>Guyana</td>\n",
              "      <td>23.14</td>\n",
              "      <td>8.57</td>\n",
              "      <td>2.10</td>\n",
              "      <td>9380.0</td>\n",
              "      <td>40.85</td>\n",
              "    </tr>\n",
              "    <tr>\n",
              "      <th>2</th>\n",
              "      <td>Eswatini</td>\n",
              "      <td>19.90</td>\n",
              "      <td>14.78</td>\n",
              "      <td>3.26</td>\n",
              "      <td>3680.0</td>\n",
              "      <td>40.46</td>\n",
              "    </tr>\n",
              "    <tr>\n",
              "      <th>3</th>\n",
              "      <td>Kiribati</td>\n",
              "      <td>11.07</td>\n",
              "      <td>3.97</td>\n",
              "      <td>0.80</td>\n",
              "      <td>2910.0</td>\n",
              "      <td>30.56</td>\n",
              "    </tr>\n",
              "    <tr>\n",
              "      <th>4</th>\n",
              "      <td>Suriname</td>\n",
              "      <td>26.48</td>\n",
              "      <td>11.74</td>\n",
              "      <td>3.10</td>\n",
              "      <td>4440.0</td>\n",
              "      <td>25.89</td>\n",
              "    </tr>\n",
              "  </tbody>\n",
              "</table>\n",
              "</div>\n",
              "      <button class=\"colab-df-convert\" onclick=\"convertToInteractive('df-3fc5e11f-7c84-403a-ab8b-20d30cd0407d')\"\n",
              "              title=\"Convert this dataframe to an interactive table.\"\n",
              "              style=\"display:none;\">\n",
              "        \n",
              "  <svg xmlns=\"http://www.w3.org/2000/svg\" height=\"24px\"viewBox=\"0 0 24 24\"\n",
              "       width=\"24px\">\n",
              "    <path d=\"M0 0h24v24H0V0z\" fill=\"none\"/>\n",
              "    <path d=\"M18.56 5.44l.94 2.06.94-2.06 2.06-.94-2.06-.94-.94-2.06-.94 2.06-2.06.94zm-11 1L8.5 8.5l.94-2.06 2.06-.94-2.06-.94L8.5 2.5l-.94 2.06-2.06.94zm10 10l.94 2.06.94-2.06 2.06-.94-2.06-.94-.94-2.06-.94 2.06-2.06.94z\"/><path d=\"M17.41 7.96l-1.37-1.37c-.4-.4-.92-.59-1.43-.59-.52 0-1.04.2-1.43.59L10.3 9.45l-7.72 7.72c-.78.78-.78 2.05 0 2.83L4 21.41c.39.39.9.59 1.41.59.51 0 1.02-.2 1.41-.59l7.78-7.78 2.81-2.81c.8-.78.8-2.07 0-2.86zM5.41 20L4 18.59l7.72-7.72 1.47 1.35L5.41 20z\"/>\n",
              "  </svg>\n",
              "      </button>\n",
              "      \n",
              "  <style>\n",
              "    .colab-df-container {\n",
              "      display:flex;\n",
              "      flex-wrap:wrap;\n",
              "      gap: 12px;\n",
              "    }\n",
              "\n",
              "    .colab-df-convert {\n",
              "      background-color: #E8F0FE;\n",
              "      border: none;\n",
              "      border-radius: 50%;\n",
              "      cursor: pointer;\n",
              "      display: none;\n",
              "      fill: #1967D2;\n",
              "      height: 32px;\n",
              "      padding: 0 0 0 0;\n",
              "      width: 32px;\n",
              "    }\n",
              "\n",
              "    .colab-df-convert:hover {\n",
              "      background-color: #E2EBFA;\n",
              "      box-shadow: 0px 1px 2px rgba(60, 64, 67, 0.3), 0px 1px 3px 1px rgba(60, 64, 67, 0.15);\n",
              "      fill: #174EA6;\n",
              "    }\n",
              "\n",
              "    [theme=dark] .colab-df-convert {\n",
              "      background-color: #3B4455;\n",
              "      fill: #D2E3FC;\n",
              "    }\n",
              "\n",
              "    [theme=dark] .colab-df-convert:hover {\n",
              "      background-color: #434B5C;\n",
              "      box-shadow: 0px 1px 3px 1px rgba(0, 0, 0, 0.15);\n",
              "      filter: drop-shadow(0px 1px 2px rgba(0, 0, 0, 0.3));\n",
              "      fill: #FFFFFF;\n",
              "    }\n",
              "  </style>\n",
              "\n",
              "      <script>\n",
              "        const buttonEl =\n",
              "          document.querySelector('#df-3fc5e11f-7c84-403a-ab8b-20d30cd0407d button.colab-df-convert');\n",
              "        buttonEl.style.display =\n",
              "          google.colab.kernel.accessAllowed ? 'block' : 'none';\n",
              "\n",
              "        async function convertToInteractive(key) {\n",
              "          const element = document.querySelector('#df-3fc5e11f-7c84-403a-ab8b-20d30cd0407d');\n",
              "          const dataTable =\n",
              "            await google.colab.kernel.invokeFunction('convertToInteractive',\n",
              "                                                     [key], {});\n",
              "          if (!dataTable) return;\n",
              "\n",
              "          const docLinkHtml = 'Like what you see? Visit the ' +\n",
              "            '<a target=\"_blank\" href=https://colab.research.google.com/notebooks/data_table.ipynb>data table notebook</a>'\n",
              "            + ' to learn more about interactive tables.';\n",
              "          element.innerHTML = '';\n",
              "          dataTable['output_type'] = 'display_data';\n",
              "          await google.colab.output.renderOutput(dataTable, element);\n",
              "          const docLink = document.createElement('div');\n",
              "          docLink.innerHTML = docLinkHtml;\n",
              "          element.appendChild(docLink);\n",
              "        }\n",
              "      </script>\n",
              "    </div>\n",
              "  </div>\n",
              "  "
            ]
          },
          "metadata": {},
          "execution_count": 6
        }
      ]
    },
    {
      "cell_type": "code",
      "source": [
        "X1 = df1.drop(columns=['country', 'both suicide rate'])\n",
        "y1 = df1['both suicide rate']\n",
        "norm = MinMaxScaler().fit(X1)\n",
        "X1_norm = pd.DataFrame(norm.transform(X1))"
      ],
      "metadata": {
        "id": "IVy2krYPMGd3"
      },
      "execution_count": null,
      "outputs": []
    },
    {
      "cell_type": "markdown",
      "source": [
        "##Linear Regression"
      ],
      "metadata": {
        "id": "ml72X6GddqBD"
      }
    },
    {
      "cell_type": "code",
      "source": [
        "lr_model = LinearRegression()\n",
        "lr_model.fit(X1_norm, y1)\n",
        "coefs = lr_model.coef_\n",
        "for i, factor in enumerate(X1.columns):\n",
        "  print(f'{factor}: {coefs[i]}')"
      ],
      "metadata": {
        "colab": {
          "base_uri": "https://localhost:8080/"
        },
        "id": "SYsUMyD1dwZ6",
        "outputId": "f96a25ad-271a-4a89-b897-c8770bbb8d6b"
      },
      "execution_count": null,
      "outputs": [
        {
          "output_type": "stream",
          "name": "stdout",
          "text": [
            "air pollution: -2.7611235110844254\n",
            "male alcohol consumption: 44.77509471509147\n",
            "female alcohol consumption: -41.3460441364449\n",
            "GDP/capita: -0.8521423060746329\n"
          ]
        }
      ]
    },
    {
      "cell_type": "markdown",
      "source": [
        "##kNN"
      ],
      "metadata": {
        "id": "Hc8VNcHYbpNk"
      }
    },
    {
      "cell_type": "markdown",
      "source": [
        "###Hyperparameter optimization"
      ],
      "metadata": {
        "id": "LHiBmIECdmgi"
      }
    },
    {
      "cell_type": "code",
      "source": [
        "k_range=range(1, 30)\n",
        "k_scores=[]\n",
        "for k in k_range:\n",
        "    kf_cv = KNeighborsRegressor(n_neighbors=k)\n",
        "    scores = cvs(kf_cv, X1_norm, y1, cv=10, scoring='neg_root_mean_squared_error')\n",
        "    k_scores.append(scores.mean())\n",
        "plt.plot(k_range, k_scores, color='blue', linestyle='dashed', marker='o', markerfacecolor='red', markersize=10)\n",
        "plt.xlabel('k value')\n",
        "plt.ylabel('Negative Root Mean Squared Error')\n",
        "plt.show()"
      ],
      "metadata": {
        "colab": {
          "base_uri": "https://localhost:8080/",
          "height": 279
        },
        "id": "Ttfz3M900VMl",
        "outputId": "05ebaf7f-b2e0-4235-cfa4-780d4052ac59"
      },
      "execution_count": null,
      "outputs": [
        {
          "output_type": "display_data",
          "data": {
            "text/plain": [
              "<Figure size 432x288 with 1 Axes>"
            ],
            "image/png": "[encoded data removed]"
          },
          "metadata": {
            "needs_background": "light"
          }
        }
      ]
    },
    {
      "cell_type": "markdown",
      "source": [
        "##Random Forest"
      ],
      "metadata": {
        "id": "8m5is3S-aL6-"
      }
    },
    {
      "cell_type": "markdown",
      "source": [
        "###Hyperparameter optimization"
      ],
      "metadata": {
        "id": "d_iOxHpwdXqj"
      }
    },
    {
      "cell_type": "code",
      "source": [
        "# define several values for some hyperparameters in a random grid\n",
        "max_depth = [10, 15, 20, 25, None]\n",
        "min_samples_leaf = [1, 2, 3, 4, 5]\n",
        "min_samples_split = [2, 3, 4, 5, 6]\n",
        "n_estimators = [100, 200, 300, 400, 500]\n",
        "\n",
        "random_grid = {'max_depth': max_depth,\n",
        "               'min_samples_split': min_samples_split,\n",
        "               'min_samples_leaf': min_samples_leaf,\n",
        "               'n_estimators': n_estimators}"
      ],
      "metadata": {
        "id": "ho-nuqXCZYzS"
      },
      "execution_count": null,
      "outputs": []
    },
    {
      "cell_type": "code",
      "source": [
        "# use cross validation to find the best hyperparameters\n",
        "model = RandomForestRegressor()\n",
        "CV = RandomizedSearchCV(estimator=model, param_distributions=random_grid, cv=5, random_state=rand_state, scoring='neg_root_mean_squared_error')\n",
        "CV.fit(X1, y1)\n",
        "rf_model = CV.best_estimator_\n",
        "rf_model"
      ],
      "metadata": {
        "colab": {
          "base_uri": "https://localhost:8080/"
        },
        "id": "o9z3P0WDZkEo",
        "outputId": "9db63ede-3d56-4a45-9d75-4c118c88bdae"
      },
      "execution_count": null,
      "outputs": [
        {
          "output_type": "execute_result",
          "data": {
            "text/plain": [
              "RandomForestRegressor(max_depth=25, min_samples_leaf=5, min_samples_split=3)"
            ]
          },
          "metadata": {},
          "execution_count": 11
        }
      ]
    },
    {
      "cell_type": "markdown",
      "source": [
        "###Feature importance"
      ],
      "metadata": {
        "id": "NPTjIqRRdT1O"
      }
    },
    {
      "cell_type": "code",
      "source": [
        "importances = list(rf_model.feature_importances_)\n",
        "feature_importances = [(feature, round(importance, 2)) for feature, importance\n",
        "                       in zip(X1.columns, importances)]\n",
        "feature_importances = sorted(feature_importances, key = lambda x: x[1], reverse = True)\n",
        "[print('Feature: {:40} Importance: {}'.format(*pair)) for pair in feature_importances];"
      ],
      "metadata": {
        "colab": {
          "base_uri": "https://localhost:8080/"
        },
        "id": "WOjrxodPdQw2",
        "outputId": "fa632457-52bb-4f84-ad3e-46e8ee32a603"
      },
      "execution_count": null,
      "outputs": [
        {
          "output_type": "stream",
          "name": "stdout",
          "text": [
            "Feature: air pollution                            Importance: 0.33\n",
            "Feature: GDP/capita                               Importance: 0.31\n",
            "Feature: female alcohol consumption               Importance: 0.2\n",
            "Feature: male alcohol consumption                 Importance: 0.15\n"
          ]
        }
      ]
    },
    {
      "cell_type": "markdown",
      "source": [
        "##Model selection"
      ],
      "metadata": {
        "id": "pnSzpOZZdeUo"
      }
    },
    {
      "cell_type": "code",
      "source": [
        "lr_model = LinearRegression()\n",
        "knn_model = KNeighborsRegressor(n_neighbors=4)\n",
        "rf_model = RandomForestRegressor(max_depth=25, min_samples_leaf=5, min_samples_split=4)\n",
        "models = [lr_model, knn_model, rf_model]"
      ],
      "metadata": {
        "id": "8hbVbJL3NhQP"
      },
      "execution_count": null,
      "outputs": []
    },
    {
      "cell_type": "code",
      "source": [
        "k_fold = 10\n",
        "RMSE = np.zeros((k_fold, len(models)))\n",
        "cv = skl_ms.KFold(n_splits=k_fold, random_state=rand_state, shuffle=True)\n",
        "\n",
        "for i, (train_index, val_index) in enumerate(cv.split(X1)):\n",
        "  X_train, X_val = X1.iloc[train_index], X1.iloc[val_index]\n",
        "  X_norm_train, X_norm_val = X1_norm.iloc[train_index], X1_norm.iloc[val_index]\n",
        "  y_train, y_val = y1.iloc[train_index], y1.iloc[val_index]\n",
        "\n",
        "  for m in range(np.shape(models)[0]):\n",
        "    model = models[m]\n",
        "    if m == 2: # Random Forest\n",
        "      model.fit(X_train, y_train)\n",
        "      y_pred = model.predict(X_val)\n",
        "    else: # Linear Regression and kNN\n",
        "      model.fit(X_norm_train, y_train)\n",
        "      y_pred = model.predict(X_norm_val)\n",
        "    RMSE[i, m] = np.sqrt(mean_squared_error(y_val, y_pred))\n",
        "\n",
        "plt.boxplot(RMSE)\n",
        "plt.title('cross validation error for different methods')\n",
        "plt.xticks(np.arange(len(models))+1, ('Linear Regression', 'kNN', 'Random Forest'))\n",
        "plt.ylabel('validation error')\n",
        "plt.show()\n",
        "\n",
        "# print average misclassification error for each model\n",
        "print('Root Mean Squared Error for Linear Regression: %.4f'\n",
        "%np.mean(RMSE[:, 0]))\n",
        "print('Root Mean Squared Error for KNN: %.4f'\n",
        "%np.mean(RMSE[:, 1]))\n",
        "print('Root Mean Squared Error for Random Forest: %.4f'\n",
        "%np.mean(RMSE[:, 2]))"
      ],
      "metadata": {
        "colab": {
          "base_uri": "https://localhost:8080/",
          "height": 658
        },
        "id": "UgbiFIQTPaFA",
        "outputId": "043fa4d5-1135-4a6b-a3ef-48afc678b42b"
      },
      "execution_count": null,
      "outputs": [
        {
          "output_type": "stream",
          "name": "stderr",
          "text": [
            "/usr/local/lib/python3.7/dist-packages/numpy/core/fromnumeric.py:1970: VisibleDeprecationWarning: Creating an ndarray from ragged nested sequences (which is a list-or-tuple of lists-or-tuples-or ndarrays with different lengths or shapes) is deprecated. If you meant to do this, you must specify 'dtype=object' when creating the ndarray.\n",
            "  result = asarray(a).shape\n",
            "/usr/local/lib/python3.7/dist-packages/numpy/core/fromnumeric.py:1970: VisibleDeprecationWarning: Creating an ndarray from ragged nested sequences (which is a list-or-tuple of lists-or-tuples-or ndarrays with different lengths or shapes) is deprecated. If you meant to do this, you must specify 'dtype=object' when creating the ndarray.\n",
            "  result = asarray(a).shape\n",
            "/usr/local/lib/python3.7/dist-packages/numpy/core/fromnumeric.py:1970: VisibleDeprecationWarning: Creating an ndarray from ragged nested sequences (which is a list-or-tuple of lists-or-tuples-or ndarrays with different lengths or shapes) is deprecated. If you meant to do this, you must specify 'dtype=object' when creating the ndarray.\n",
            "  result = asarray(a).shape\n",
            "/usr/local/lib/python3.7/dist-packages/numpy/core/fromnumeric.py:1970: VisibleDeprecationWarning: Creating an ndarray from ragged nested sequences (which is a list-or-tuple of lists-or-tuples-or ndarrays with different lengths or shapes) is deprecated. If you meant to do this, you must specify 'dtype=object' when creating the ndarray.\n",
            "  result = asarray(a).shape\n",
            "/usr/local/lib/python3.7/dist-packages/numpy/core/fromnumeric.py:1970: VisibleDeprecationWarning: Creating an ndarray from ragged nested sequences (which is a list-or-tuple of lists-or-tuples-or ndarrays with different lengths or shapes) is deprecated. If you meant to do this, you must specify 'dtype=object' when creating the ndarray.\n",
            "  result = asarray(a).shape\n",
            "/usr/local/lib/python3.7/dist-packages/numpy/core/fromnumeric.py:1970: VisibleDeprecationWarning: Creating an ndarray from ragged nested sequences (which is a list-or-tuple of lists-or-tuples-or ndarrays with different lengths or shapes) is deprecated. If you meant to do this, you must specify 'dtype=object' when creating the ndarray.\n",
            "  result = asarray(a).shape\n",
            "/usr/local/lib/python3.7/dist-packages/numpy/core/fromnumeric.py:1970: VisibleDeprecationWarning: Creating an ndarray from ragged nested sequences (which is a list-or-tuple of lists-or-tuples-or ndarrays with different lengths or shapes) is deprecated. If you meant to do this, you must specify 'dtype=object' when creating the ndarray.\n",
            "  result = asarray(a).shape\n",
            "/usr/local/lib/python3.7/dist-packages/numpy/core/fromnumeric.py:1970: VisibleDeprecationWarning: Creating an ndarray from ragged nested sequences (which is a list-or-tuple of lists-or-tuples-or ndarrays with different lengths or shapes) is deprecated. If you meant to do this, you must specify 'dtype=object' when creating the ndarray.\n",
            "  result = asarray(a).shape\n",
            "/usr/local/lib/python3.7/dist-packages/numpy/core/fromnumeric.py:1970: VisibleDeprecationWarning: Creating an ndarray from ragged nested sequences (which is a list-or-tuple of lists-or-tuples-or ndarrays with different lengths or shapes) is deprecated. If you meant to do this, you must specify 'dtype=object' when creating the ndarray.\n",
            "  result = asarray(a).shape\n"
          ]
        },
        {
          "output_type": "display_data",
          "data": {
            "text/plain": [
              "<Figure size 432x288 with 1 Axes>"
            ],
            "image/png": "[encoded data removed]"
          },
          "metadata": {
            "needs_background": "light"
          }
        },
        {
          "output_type": "stream",
          "name": "stdout",
          "text": [
            "Root Mean Squared Error for Linear Regression: 7.9919\n",
            "Root Mean Squared Error for KNN: 8.4759\n",
            "Root Mean Squared Error for Random Forest: 7.9583\n"
          ]
        }
      ]
    },
    {
      "cell_type": "markdown",
      "source": [
        "#Dataset 2"
      ],
      "metadata": {
        "id": "5ufJA11si_7V"
      }
    },
    {
      "cell_type": "code",
      "source": [
        "df2.head()"
      ],
      "metadata": {
        "colab": {
          "base_uri": "https://localhost:8080/",
          "height": 204
        },
        "id": "5Vkzg2tFM-kU",
        "outputId": "eff58cb2-e553-4130-cee6-b63483656cce"
      },
      "execution_count": null,
      "outputs": [
        {
          "output_type": "execute_result",
          "data": {
            "text/plain": [
              "   Unnamed: 0              country gender  air pollution  alcohol consumption  \\\n",
              "0           0  Antigua and Barbuda    MLE          21.03                15.09   \n",
              "1           1             Barbados   FMLE          24.82                 4.35   \n",
              "2           2             Barbados    MLE          24.82                16.95   \n",
              "3           3              Grenada    MLE          22.87                14.25   \n",
              "4           4  Antigua and Barbuda   FMLE          21.03                 4.25   \n",
              "\n",
              "   GDP/capita  suicide rate  \n",
              "0     14900.0          0.00  \n",
              "1     16720.0          0.16  \n",
              "2     16720.0          0.49  \n",
              "3      9630.0          0.53  \n",
              "4     14900.0          0.60  "
            ],
            "text/html": [
              "\n",
              "  <div id=\"df-72101c30-2e5a-4b18-b93c-4a47588ec617\">\n",
              "    <div class=\"colab-df-container\">\n",
              "      <div>\n",
              "<style scoped>\n",
              "    .dataframe tbody tr th:only-of-type {\n",
              "        vertical-align: middle;\n",
              "    }\n",
              "\n",
              "    .dataframe tbody tr th {\n",
              "        vertical-align: top;\n",
              "    }\n",
              "\n",
              "    .dataframe thead th {\n",
              "        text-align: right;\n",
              "    }\n",
              "</style>\n",
              "<table border=\"1\" class=\"dataframe\">\n",
              "  <thead>\n",
              "    <tr style=\"text-align: right;\">\n",
              "      <th></th>\n",
              "      <th>Unnamed: 0</th>\n",
              "      <th>country</th>\n",
              "      <th>gender</th>\n",
              "      <th>air pollution</th>\n",
              "      <th>alcohol consumption</th>\n",
              "      <th>GDP/capita</th>\n",
              "      <th>suicide rate</th>\n",
              "    </tr>\n",
              "  </thead>\n",
              "  <tbody>\n",
              "    <tr>\n",
              "      <th>0</th>\n",
              "      <td>0</td>\n",
              "      <td>Antigua and Barbuda</td>\n",
              "      <td>MLE</td>\n",
              "      <td>21.03</td>\n",
              "      <td>15.09</td>\n",
              "      <td>14900.0</td>\n",
              "      <td>0.00</td>\n",
              "    </tr>\n",
              "    <tr>\n",
              "      <th>1</th>\n",
              "      <td>1</td>\n",
              "      <td>Barbados</td>\n",
              "      <td>FMLE</td>\n",
              "      <td>24.82</td>\n",
              "      <td>4.35</td>\n",
              "      <td>16720.0</td>\n",
              "      <td>0.16</td>\n",
              "    </tr>\n",
              "    <tr>\n",
              "      <th>2</th>\n",
              "      <td>2</td>\n",
              "      <td>Barbados</td>\n",
              "      <td>MLE</td>\n",
              "      <td>24.82</td>\n",
              "      <td>16.95</td>\n",
              "      <td>16720.0</td>\n",
              "      <td>0.49</td>\n",
              "    </tr>\n",
              "    <tr>\n",
              "      <th>3</th>\n",
              "      <td>3</td>\n",
              "      <td>Grenada</td>\n",
              "      <td>MLE</td>\n",
              "      <td>22.87</td>\n",
              "      <td>14.25</td>\n",
              "      <td>9630.0</td>\n",
              "      <td>0.53</td>\n",
              "    </tr>\n",
              "    <tr>\n",
              "      <th>4</th>\n",
              "      <td>4</td>\n",
              "      <td>Antigua and Barbuda</td>\n",
              "      <td>FMLE</td>\n",
              "      <td>21.03</td>\n",
              "      <td>4.25</td>\n",
              "      <td>14900.0</td>\n",
              "      <td>0.60</td>\n",
              "    </tr>\n",
              "  </tbody>\n",
              "</table>\n",
              "</div>\n",
              "      <button class=\"colab-df-convert\" onclick=\"convertToInteractive('df-72101c30-2e5a-4b18-b93c-4a47588ec617')\"\n",
              "              title=\"Convert this dataframe to an interactive table.\"\n",
              "              style=\"display:none;\">\n",
              "        \n",
              "  <svg xmlns=\"http://www.w3.org/2000/svg\" height=\"24px\"viewBox=\"0 0 24 24\"\n",
              "       width=\"24px\">\n",
              "    <path d=\"M0 0h24v24H0V0z\" fill=\"none\"/>\n",
              "    <path d=\"M18.56 5.44l.94 2.06.94-2.06 2.06-.94-2.06-.94-.94-2.06-.94 2.06-2.06.94zm-11 1L8.5 8.5l.94-2.06 2.06-.94-2.06-.94L8.5 2.5l-.94 2.06-2.06.94zm10 10l.94 2.06.94-2.06 2.06-.94-2.06-.94-.94-2.06-.94 2.06-2.06.94z\"/><path d=\"M17.41 7.96l-1.37-1.37c-.4-.4-.92-.59-1.43-.59-.52 0-1.04.2-1.43.59L10.3 9.45l-7.72 7.72c-.78.78-.78 2.05 0 2.83L4 21.41c.39.39.9.59 1.41.59.51 0 1.02-.2 1.41-.59l7.78-7.78 2.81-2.81c.8-.78.8-2.07 0-2.86zM5.41 20L4 18.59l7.72-7.72 1.47 1.35L5.41 20z\"/>\n",
              "  </svg>\n",
              "      </button>\n",
              "      \n",
              "  <style>\n",
              "    .colab-df-container {\n",
              "      display:flex;\n",
              "      flex-wrap:wrap;\n",
              "      gap: 12px;\n",
              "    }\n",
              "\n",
              "    .colab-df-convert {\n",
              "      background-color: #E8F0FE;\n",
              "      border: none;\n",
              "      border-radius: 50%;\n",
              "      cursor: pointer;\n",
              "      display: none;\n",
              "      fill: #1967D2;\n",
              "      height: 32px;\n",
              "      padding: 0 0 0 0;\n",
              "      width: 32px;\n",
              "    }\n",
              "\n",
              "    .colab-df-convert:hover {\n",
              "      background-color: #E2EBFA;\n",
              "      box-shadow: 0px 1px 2px rgba(60, 64, 67, 0.3), 0px 1px 3px 1px rgba(60, 64, 67, 0.15);\n",
              "      fill: #174EA6;\n",
              "    }\n",
              "\n",
              "    [theme=dark] .colab-df-convert {\n",
              "      background-color: #3B4455;\n",
              "      fill: #D2E3FC;\n",
              "    }\n",
              "\n",
              "    [theme=dark] .colab-df-convert:hover {\n",
              "      background-color: #434B5C;\n",
              "      box-shadow: 0px 1px 3px 1px rgba(0, 0, 0, 0.15);\n",
              "      filter: drop-shadow(0px 1px 2px rgba(0, 0, 0, 0.3));\n",
              "      fill: #FFFFFF;\n",
              "    }\n",
              "  </style>\n",
              "\n",
              "      <script>\n",
              "        const buttonEl =\n",
              "          document.querySelector('#df-72101c30-2e5a-4b18-b93c-4a47588ec617 button.colab-df-convert');\n",
              "        buttonEl.style.display =\n",
              "          google.colab.kernel.accessAllowed ? 'block' : 'none';\n",
              "\n",
              "        async function convertToInteractive(key) {\n",
              "          const element = document.querySelector('#df-72101c30-2e5a-4b18-b93c-4a47588ec617');\n",
              "          const dataTable =\n",
              "            await google.colab.kernel.invokeFunction('convertToInteractive',\n",
              "                                                     [key], {});\n",
              "          if (!dataTable) return;\n",
              "\n",
              "          const docLinkHtml = 'Like what you see? Visit the ' +\n",
              "            '<a target=\"_blank\" href=https://colab.research.google.com/notebooks/data_table.ipynb>data table notebook</a>'\n",
              "            + ' to learn more about interactive tables.';\n",
              "          element.innerHTML = '';\n",
              "          dataTable['output_type'] = 'display_data';\n",
              "          await google.colab.output.renderOutput(dataTable, element);\n",
              "          const docLink = document.createElement('div');\n",
              "          docLink.innerHTML = docLinkHtml;\n",
              "          element.appendChild(docLink);\n",
              "        }\n",
              "      </script>\n",
              "    </div>\n",
              "  </div>\n",
              "  "
            ]
          },
          "metadata": {},
          "execution_count": 15
        }
      ]
    },
    {
      "cell_type": "code",
      "source": [
        "X2 = df2.drop(columns=['Unnamed: 0', 'country', 'suicide rate'])\n",
        "y2 = df2['suicide rate']\n",
        "gender_code = {'FMLE': 0, 'MLE': 1}\n",
        "X2.gender = [gender_code[item] for item in X2.gender]\n",
        "norm = MinMaxScaler().fit(X2)\n",
        "X2_norm = pd.DataFrame(norm.transform(X2))"
      ],
      "metadata": {
        "id": "hD3fqXglLptx"
      },
      "execution_count": null,
      "outputs": []
    },
    {
      "cell_type": "markdown",
      "source": [
        "##Linear Regression"
      ],
      "metadata": {
        "id": "FlFcOSDVjA8e"
      }
    },
    {
      "cell_type": "code",
      "source": [
        "lr_model = LinearRegression()\n",
        "lr_model.fit(X2_norm, y2)\n",
        "coefs = lr_model.coef_\n",
        "for i, factor in enumerate(X2.columns):\n",
        "  print(f'{factor}: {coefs[i]}')"
      ],
      "metadata": {
        "colab": {
          "base_uri": "https://localhost:8080/"
        },
        "id": "B6mQl1yRjLBu",
        "outputId": "0b5838c2-a712-4234-e3e4-20f5dd2bce17"
      },
      "execution_count": null,
      "outputs": [
        {
          "output_type": "stream",
          "name": "stdout",
          "text": [
            "gender: 9.09477346617719\n",
            "air pollution: -1.908405998246077\n",
            "alcohol consumption: 9.576212703519918\n",
            "GDP/capita: -8.897373978536171\n"
          ]
        }
      ]
    },
    {
      "cell_type": "markdown",
      "source": [
        "##kNN"
      ],
      "metadata": {
        "id": "6FZoA7xwjPW1"
      }
    },
    {
      "cell_type": "markdown",
      "source": [
        "###Hyperparameter optimization"
      ],
      "metadata": {
        "id": "fuhHTo_ljSSD"
      }
    },
    {
      "cell_type": "code",
      "source": [
        "k_range=range(1, 30)\n",
        "k_scores=[]\n",
        "for k in k_range:\n",
        "    kf_cv = KNeighborsRegressor(n_neighbors=k)\n",
        "    scores = cvs(kf_cv, X2_norm, y2, cv=10, scoring='neg_root_mean_squared_error')\n",
        "    k_scores.append(scores.mean())\n",
        "plt.plot(k_range, k_scores, color='blue', linestyle='dashed', marker='o', markerfacecolor='red', markersize=10)\n",
        "plt.xlabel('k value')\n",
        "plt.ylabel('Negative Root Mean Squared Error')\n",
        "plt.show()"
      ],
      "metadata": {
        "colab": {
          "base_uri": "https://localhost:8080/",
          "height": 279
        },
        "id": "xCGnIFbdzILz",
        "outputId": "4587c588-c897-4460-83ab-d5fc58ebab7c"
      },
      "execution_count": null,
      "outputs": [
        {
          "output_type": "display_data",
          "data": {
            "text/plain": [
              "<Figure size 432x288 with 1 Axes>"
            ],
            "image/png": "[encoded data removed]"
          },
          "metadata": {
            "needs_background": "light"
          }
        }
      ]
    },
    {
      "cell_type": "markdown",
      "source": [
        "##Random Forest"
      ],
      "metadata": {
        "id": "ew_dLKlSjY7z"
      }
    },
    {
      "cell_type": "markdown",
      "source": [
        "###Hyperparameter optimization"
      ],
      "metadata": {
        "id": "hmKJpNC1jd5i"
      }
    },
    {
      "cell_type": "code",
      "source": [
        "# define several values for some hyperparameters in a random grid\n",
        "max_depth = [10, 15, 20, 25, None]\n",
        "min_samples_leaf = [1, 2, 3, 4, 5]\n",
        "min_samples_split = [2, 3, 4, 5, 6]\n",
        "n_estimators = [100, 200, 300, 400, 500]\n",
        "\n",
        "random_grid = {'max_depth': max_depth,\n",
        "               'min_samples_split': min_samples_split,\n",
        "               'min_samples_leaf': min_samples_leaf,\n",
        "               'n_estimators': n_estimators}"
      ],
      "metadata": {
        "id": "GqHajRgqjhhC"
      },
      "execution_count": null,
      "outputs": []
    },
    {
      "cell_type": "code",
      "source": [
        "# use cross validation to find the best hyperparameters\n",
        "model = RandomForestRegressor()\n",
        "CV = RandomizedSearchCV(estimator=model, param_distributions=random_grid, cv=5, random_state=rand_state, scoring='neg_root_mean_squared_error')\n",
        "CV.fit(X2, y2)\n",
        "rf_model = CV.best_estimator_\n",
        "rf_model"
      ],
      "metadata": {
        "colab": {
          "base_uri": "https://localhost:8080/"
        },
        "id": "DIvJ6_GvjkrY",
        "outputId": "853da69c-e08a-4801-c843-1c8fe46776d5"
      },
      "execution_count": null,
      "outputs": [
        {
          "output_type": "execute_result",
          "data": {
            "text/plain": [
              "RandomForestRegressor(max_depth=25, min_samples_leaf=5, min_samples_split=3)"
            ]
          },
          "metadata": {},
          "execution_count": 20
        }
      ]
    },
    {
      "cell_type": "markdown",
      "source": [
        "###Feature importance"
      ],
      "metadata": {
        "id": "Cs6JHs-BjoF3"
      }
    },
    {
      "cell_type": "code",
      "source": [
        "importances = list(rf_model.feature_importances_)\n",
        "feature_importances = [(feature, round(importance, 2)) for feature, importance\n",
        "                       in zip(X2.columns, importances)]\n",
        "feature_importances = sorted(feature_importances, key = lambda x: x[1], reverse = True)\n",
        "[print('Feature: {:40} Importance: {}'.format(*pair)) for pair in feature_importances];"
      ],
      "metadata": {
        "colab": {
          "base_uri": "https://localhost:8080/"
        },
        "id": "PEXn3FAejqLd",
        "outputId": "c9d77c91-8cea-40a5-dfa0-d9f3e09f5a05"
      },
      "execution_count": null,
      "outputs": [
        {
          "output_type": "stream",
          "name": "stdout",
          "text": [
            "Feature: gender                                   Importance: 0.38\n",
            "Feature: alcohol consumption                      Importance: 0.24\n",
            "Feature: GDP/capita                               Importance: 0.22\n",
            "Feature: air pollution                            Importance: 0.17\n"
          ]
        }
      ]
    },
    {
      "cell_type": "markdown",
      "source": [
        "##Model selection"
      ],
      "metadata": {
        "id": "QrI-iLctjubF"
      }
    },
    {
      "cell_type": "code",
      "source": [
        "lr_model = LinearRegression()\n",
        "knn_model = KNeighborsRegressor(n_neighbors=5)\n",
        "rf_model = RandomForestRegressor(max_depth=25, min_samples_leaf=5, min_samples_split=4)\n",
        "models = [lr_model, knn_model, rf_model]"
      ],
      "metadata": {
        "id": "9zoJBVBCma4j"
      },
      "execution_count": null,
      "outputs": []
    },
    {
      "cell_type": "code",
      "source": [
        "k_fold = 10\n",
        "RMSE = np.zeros((k_fold, len(models)))\n",
        "cv = skl_ms.KFold(n_splits=k_fold, random_state=rand_state, shuffle=True)\n",
        "\n",
        "for i, (train_index, val_index) in enumerate(cv.split(X2)):\n",
        "  X_train, X_val = X2.iloc[train_index], X2.iloc[val_index]\n",
        "  X_norm_train, X_norm_val = X2_norm.iloc[train_index], X2_norm.iloc[val_index]\n",
        "  y_train, y_val = y2.iloc[train_index], y2.iloc[val_index]\n",
        "\n",
        "  for m in range(np.shape(models)[0]):\n",
        "    model = models[m]\n",
        "    if m == 2: # Random Forest\n",
        "      model.fit(X_train, y_train)\n",
        "      y_pred = model.predict(X_val)\n",
        "    else: # Linear Regression and kNN\n",
        "      model.fit(X_norm_train, y_train)\n",
        "      y_pred = model.predict(X_norm_val)\n",
        "    RMSE[i, m] = np.sqrt(mean_squared_error(y_val, y_pred))\n",
        "\n",
        "plt.boxplot(RMSE)\n",
        "plt.title('cross validation error for different methods')\n",
        "plt.xticks(np.arange(len(models))+1, ('Linear Regression', 'kNN', 'Random Forest'))\n",
        "plt.ylabel('validation error')\n",
        "plt.show()\n",
        "\n",
        "# print average misclassification error for each model\n",
        "print('Root Mean Squared Error for Linear Regression: %.4f'\n",
        "%np.mean(RMSE[:, 0]))\n",
        "print('Root Mean Squared Error for KNN: %.4f'\n",
        "%np.mean(RMSE[:, 1]))\n",
        "print('Root Mean Squared Error for Random Forest: %.4f'\n",
        "%np.mean(RMSE[:, 2]))"
      ],
      "metadata": {
        "colab": {
          "base_uri": "https://localhost:8080/",
          "height": 658
        },
        "id": "nuQDAK-Ajy2J",
        "outputId": "d53cfabf-3d1e-437f-a735-13cc91cd92c6"
      },
      "execution_count": null,
      "outputs": [
        {
          "output_type": "stream",
          "name": "stderr",
          "text": [
            "/usr/local/lib/python3.7/dist-packages/numpy/core/fromnumeric.py:1970: VisibleDeprecationWarning: Creating an ndarray from ragged nested sequences (which is a list-or-tuple of lists-or-tuples-or ndarrays with different lengths or shapes) is deprecated. If you meant to do this, you must specify 'dtype=object' when creating the ndarray.\n",
            "  result = asarray(a).shape\n",
            "/usr/local/lib/python3.7/dist-packages/numpy/core/fromnumeric.py:1970: VisibleDeprecationWarning: Creating an ndarray from ragged nested sequences (which is a list-or-tuple of lists-or-tuples-or ndarrays with different lengths or shapes) is deprecated. If you meant to do this, you must specify 'dtype=object' when creating the ndarray.\n",
            "  result = asarray(a).shape\n",
            "/usr/local/lib/python3.7/dist-packages/numpy/core/fromnumeric.py:1970: VisibleDeprecationWarning: Creating an ndarray from ragged nested sequences (which is a list-or-tuple of lists-or-tuples-or ndarrays with different lengths or shapes) is deprecated. If you meant to do this, you must specify 'dtype=object' when creating the ndarray.\n",
            "  result = asarray(a).shape\n",
            "/usr/local/lib/python3.7/dist-packages/numpy/core/fromnumeric.py:1970: VisibleDeprecationWarning: Creating an ndarray from ragged nested sequences (which is a list-or-tuple of lists-or-tuples-or ndarrays with different lengths or shapes) is deprecated. If you meant to do this, you must specify 'dtype=object' when creating the ndarray.\n",
            "  result = asarray(a).shape\n",
            "/usr/local/lib/python3.7/dist-packages/numpy/core/fromnumeric.py:1970: VisibleDeprecationWarning: Creating an ndarray from ragged nested sequences (which is a list-or-tuple of lists-or-tuples-or ndarrays with different lengths or shapes) is deprecated. If you meant to do this, you must specify 'dtype=object' when creating the ndarray.\n",
            "  result = asarray(a).shape\n",
            "/usr/local/lib/python3.7/dist-packages/numpy/core/fromnumeric.py:1970: VisibleDeprecationWarning: Creating an ndarray from ragged nested sequences (which is a list-or-tuple of lists-or-tuples-or ndarrays with different lengths or shapes) is deprecated. If you meant to do this, you must specify 'dtype=object' when creating the ndarray.\n",
            "  result = asarray(a).shape\n",
            "/usr/local/lib/python3.7/dist-packages/numpy/core/fromnumeric.py:1970: VisibleDeprecationWarning: Creating an ndarray from ragged nested sequences (which is a list-or-tuple of lists-or-tuples-or ndarrays with different lengths or shapes) is deprecated. If you meant to do this, you must specify 'dtype=object' when creating the ndarray.\n",
            "  result = asarray(a).shape\n",
            "/usr/local/lib/python3.7/dist-packages/numpy/core/fromnumeric.py:1970: VisibleDeprecationWarning: Creating an ndarray from ragged nested sequences (which is a list-or-tuple of lists-or-tuples-or ndarrays with different lengths or shapes) is deprecated. If you meant to do this, you must specify 'dtype=object' when creating the ndarray.\n",
            "  result = asarray(a).shape\n",
            "/usr/local/lib/python3.7/dist-packages/numpy/core/fromnumeric.py:1970: VisibleDeprecationWarning: Creating an ndarray from ragged nested sequences (which is a list-or-tuple of lists-or-tuples-or ndarrays with different lengths or shapes) is deprecated. If you meant to do this, you must specify 'dtype=object' when creating the ndarray.\n",
            "  result = asarray(a).shape\n"
          ]
        },
        {
          "output_type": "display_data",
          "data": {
            "text/plain": [
              "<Figure size 432x288 with 1 Axes>"
            ],
            "image/png": "[encoded data removed]"
          },
          "metadata": {
            "needs_background": "light"
          }
        },
        {
          "output_type": "stream",
          "name": "stdout",
          "text": [
            "Root Mean Squared Error for Linear Regression: 10.0644\n",
            "Root Mean Squared Error for KNN: 9.9780\n",
            "Root Mean Squared Error for Random Forest: 10.0652\n"
          ]
        }
      ]
    }
  ]
}